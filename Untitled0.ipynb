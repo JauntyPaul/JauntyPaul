{
  "nbformat": 4,
  "nbformat_minor": 0,
  "metadata": {
    "colab": {
      "provenance": [],
      "mount_file_id": "1XXgqMeefUrutpRJlRLEM_tE60AuFldCF",
      "authorship_tag": "ABX9TyPWLpkfddO/OWa4qKLxOlao",
      "include_colab_link": true
    },
    "kernelspec": {
      "name": "python3",
      "display_name": "Python 3"
    },
    "language_info": {
      "name": "python"
    }
  },
  "cells": [
    {
      "cell_type": "markdown",
      "metadata": {
        "id": "view-in-github",
        "colab_type": "text"
      },
      "source": [
        "<a href=\"https://colab.research.google.com/github/JauntyPaul/JauntyPaul/blob/main/Untitled0.ipynb\" target=\"_parent\"><img src=\"https://colab.research.google.com/assets/colab-badge.svg\" alt=\"Open In Colab\"/></a>"
      ]
    },
    {
      "cell_type": "code",
      "source": [
        "from google.colab import drive\n",
        "drive.mount('/content/drive')"
      ],
      "metadata": {
        "colab": {
          "base_uri": "https://localhost:8080/"
        },
        "id": "MaTUTdoFcy7v",
        "outputId": "08617a29-f895-4576-aa24-1bbfc23726e1"
      },
      "execution_count": null,
      "outputs": [
        {
          "output_type": "stream",
          "name": "stdout",
          "text": [
            "Drive already mounted at /content/drive; to attempt to forcibly remount, call drive.mount(\"/content/drive\", force_remount=True).\n"
          ]
        }
      ]
    },
    {
      "cell_type": "code",
      "source": [
        "import os\n",
        "import numpy as np\n",
        "import librosa\n",
        "from sklearn.model_selection import train_test_split\n",
        "from sklearn.svm import SVC\n",
        "from sklearn.metrics import accuracy_score\n",
        "\n",
        "# Step 1: Accessing the Audio Data\n",
        "\n",
        "# Assume audio files are stored in a folder named 'audio_data'\n",
        "data_dir = '/content/drive/MyDrive/IIITH/16000_pcm_speeches'\n",
        "\n",
        "# Step 2: Data Preprocessing\n",
        "\n",
        "def extract_features(file_path):\n",
        "    # Use librosa to extract features (e.g., MFCCs) from audio file\n",
        "    audio, sr = librosa.load(file_path)\n",
        "    mfccs = librosa.feature.mfcc(y=audio, sr=sr, n_mfcc=13)\n",
        "    mfccs_processed = np.mean(mfccs.T, axis=0)\n",
        "    return mfccs_processed\n",
        "\n",
        "# Iterate over audio files, extract features, and collect labels\n",
        "features = []\n",
        "labels = []\n",
        "\n",
        "for speaker_folder in os.listdir(data_dir):\n",
        "    speaker_path = os.path.join(data_dir, speaker_folder)\n",
        "    for audio_file in os.listdir(speaker_path):\n",
        "        audio_path = os.path.join(speaker_path, audio_file)\n",
        "        features.append(extract_features(audio_path))\n",
        "        labels.append(speaker_folder)\n",
        "\n",
        "# Step 3: Building a Model\n",
        "\n",
        "# Split data into training and testing sets\n",
        "X_train, X_test, y_train, y_test = train_test_split(features, labels, test_size=0.2, random_state=42)\n",
        "\n",
        "# Create a support vector classifier\n",
        "model = SVC(kernel='linear')\n",
        "\n",
        "# Step 4: Training and Evaluation\n",
        "model.fit(X_train, y_train)\n",
        "y_pred = model.predict(X_test)\n",
        "accuracy = accuracy_score(y_test, y_pred)\n",
        "print(\"Accuracy:\", accuracy)\n",
        "\n",
        "# Step 5: Prediction\n",
        "# Assuming you have new audio data to predict\n",
        "new_audio_features = extract_features('path_to_new_audio_file')\n",
        "predicted_speaker = model.predict([new_audio_features])\n",
        "print(\"Predicted Speaker:\", predicted_speaker)\n",
        "\n"
      ],
      "metadata": {
        "id": "leBTlS5b3Bt5"
      },
      "execution_count": null,
      "outputs": []
    }
  ]
}